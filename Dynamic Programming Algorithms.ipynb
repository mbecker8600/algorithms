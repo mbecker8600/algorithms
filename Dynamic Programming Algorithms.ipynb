{
 "cells": [
  {
   "cell_type": "code",
   "execution_count": 3,
   "metadata": {
    "collapsed": true
   },
   "outputs": [],
   "source": [
    "import numpy as np\n",
    "import pandas as pd"
   ]
  },
  {
   "cell_type": "markdown",
   "metadata": {},
   "source": [
    "# Dynamic Programming Examples\n",
    "\n",
    "Dynamic programming is an algorithm design technique that helps you \n",
    "\n",
    "> **Common subproblems**\n",
    "\n",
    "> 1. The input is $x_1, x_2, ... , x_n$ and the subproblem is $x_1, x_2, ... , x_i$. \n",
    "The number of subproblems is $O(n)$.\n",
    "\n",
    "> 2. The input is $x_1, ... , x_n$ and $y_1, ... , y_n$. A subproblem is $x_1, ... , x_i$ and $y_1, ... , y_i$. The number of subproblems is $O(nm)$\n",
    "\n",
    "> 3. The input is $x_1, ... , x_n$ and a subproblem is $x_i, x_{i+1}, ... , x_j$. The number of subproblems is $O(n^2)$"
   ]
  },
  {
   "cell_type": "markdown",
   "metadata": {},
   "source": [
    "## Knapsack (without repetition)\n",
    "You are given a knapsack that holds a total of $W$ pounds. There are $n$ items to choose from, of weights $w_1, w_2, ..., w_n$ and values $v_1, v_2, ..., v_n$. What is the most valuable combination you can fit into your bag? \n",
    "\n",
    "### Definition\n",
    "Define K(i,j) to be the maximum value achieved from using items $x_1, x_2, ... , x_i$ with weight equal to $w_j$. \n",
    "\n",
    "### Recurrence\n",
    "$$\\left\\{\\begin{matrix}\n",
    "max\\{K(i-1, j-x_i) + x_i, K(i-1, j)\\} & if \\quad j \\geq x_i\\\\ \n",
    "K(i-1, j) & if \\quad j < x_i\n",
    "\\end{matrix}\\right.$$\n",
    "\n",
    "### Runtime analysis\n",
    "$$O(nW)$$"
   ]
  },
  {
   "cell_type": "code",
   "execution_count": 4,
   "metadata": {
    "collapsed": true
   },
   "outputs": [],
   "source": [
    "def knapsack_no_rep(W, x):\n",
    "    n = len(x) + 1\n",
    "    w = np.arange(W+1)\n",
    "    \n",
    "    K = np.zeros((n, len(w)))\n",
    "    \n",
    "    for i in range(1, n):\n",
    "        for j in range(1, len(w)):\n",
    "            if j >= x[i-1][0]:\n",
    "                K[i, j] = max(K[i-1, j-x[i-1][0]] + x[i-1][1], K[i-1, j])\n",
    "            else:\n",
    "                K[i, j] = K[i-1, j]\n",
    "\n",
    "    return K[-1, -1]"
   ]
  },
  {
   "cell_type": "code",
   "execution_count": 5,
   "metadata": {
    "collapsed": false
   },
   "outputs": [
    {
     "name": "stdout",
     "output_type": "stream",
     "text": [
      "46.0\n"
     ]
    }
   ],
   "source": [
    "W = 10\n",
    "x = [(6, 30), (3, 14), (4, 16), (2, 9)]  # each item in x represents (weight, value)\n",
    "print(knapsack_no_rep(W, x))"
   ]
  },
  {
   "cell_type": "markdown",
   "metadata": {},
   "source": [
    "## Knapsack (with repetition)\n",
    "You are given a knapsack that holds a total of $W$ pounds. There are $n$ items to choose from, of weights $w_1, w_2, ..., w_n$ and values $v_1, v_2, ..., v_n$. What is the most valuable combination you can fit into your bag *when you are allowed to use an item more than once*? \n",
    "\n",
    "### Definition\n",
    "Define K(w) to be the maximum value with a knapsack of weight $w$ achieved from using items $x_1, x_2, ... , x_n$. \n",
    "\n",
    "### Recurrence\n",
    "$$\\max _{i:w_j \\leq w}\\{K(w-w_i) + v_i\\}$$\n",
    "\n",
    "### Runtime analysis\n",
    "$$O(nW)$$"
   ]
  },
  {
   "cell_type": "code",
   "execution_count": 6,
   "metadata": {
    "collapsed": true
   },
   "outputs": [],
   "source": [
    "def knapsack_rep(W, x):\n",
    "    \n",
    "    K = np.zeros(W+1)\n",
    "    \n",
    "    for i in range(1, W+1):\n",
    "        values = [0]\n",
    "        for j in range(len(x)):\n",
    "            if x[j][0] <= i:\n",
    "                values.append(K[i-x[j][0]] + x[j][1])\n",
    "        K[i] = max(values)\n",
    "    \n",
    "    return K[-1]"
   ]
  },
  {
   "cell_type": "code",
   "execution_count": 7,
   "metadata": {
    "collapsed": false
   },
   "outputs": [
    {
     "name": "stdout",
     "output_type": "stream",
     "text": [
      "48.0\n"
     ]
    }
   ],
   "source": [
    "W = 10\n",
    "x = [(6, 30), (3, 14), (4, 16), (2, 9)]  # each item in x represents (weight, value)\n",
    "print(knapsack_rep(W, x))"
   ]
  },
  {
   "cell_type": "markdown",
   "metadata": {},
   "source": [
    "## Palindrome length\n",
    "Create an algorithm that takes in a sequence x[1..n] and returns the length of the longest palindromic subsequence. The run time should be $O(n^2)$.\n",
    "\n",
    "### Definition\n",
    "Define $a'$ to be the reverse of string $a$.\n",
    "Let L(i,j) be the length of the longest palindromic length in string in $a_1, a_2, ..., a_i$ and $a'_1, a'_2, ... a'_j$ where both $a_i$ and $a'_j$ are included.\n",
    "\n",
    "### Recurrence\n",
    "$$\\left\\{\\begin{matrix}\n",
    "0 & if \\quad a_i \\neq a'_j\\\\ \n",
    "1 + L(i-1, j-1) & if \\quad x_i = y_j\n",
    "\\end{matrix}\\right.$$\n",
    "\n",
    "### Runtime analysis\n",
    "Because this algorithm has two nested for loops of length n, the runtime is as follows $$O(n^2)$$"
   ]
  },
  {
   "cell_type": "code",
   "execution_count": 8,
   "metadata": {
    "collapsed": true
   },
   "outputs": [],
   "source": [
    "def palindrome(s):\n",
    "    n = len(s) + 1\n",
    "    s_prime = s[::-1]  # reverse s\n",
    "    \n",
    "    L = np.zeros((n, n))\n",
    "    \n",
    "    for i in range(1, n):\n",
    "        for j in range(1, n):\n",
    "            if s[i-1] == s_prime[j-1]:\n",
    "                L[i, j] = 1 + L[i-1, j-1]\n",
    "            else:\n",
    "                L[i, j] = 0\n",
    "    \n",
    "    return L.max()"
   ]
  },
  {
   "cell_type": "code",
   "execution_count": 9,
   "metadata": {
    "collapsed": false
   },
   "outputs": [
    {
     "name": "stdout",
     "output_type": "stream",
     "text": [
      "5.0\n"
     ]
    }
   ],
   "source": [
    "s = 'aabbbcsbcbsab'\n",
    "print(palindrome(s))"
   ]
  },
  {
   "cell_type": "markdown",
   "metadata": {},
   "source": [
    "## Common Sub*?!* length\n",
    "Given two strings X = $x_1, x_2, ... x_n$ and Y = $y_1, y_2, ... y_m$ give an algorithm to find the length k of the longest string Z appears as a *substring* of X and a *subsequence* of Y. \n",
    "\n",
    "### Definition\n",
    "Let L(i,j) be the length of the longest common sub*?!* in $x_1, x_2, ... , x_i$ and $y_1, y_2, ... y_j$ where both $x_i$ and $y_i$ are included.\n",
    "\n",
    "\n",
    "### Recurrence\n",
    "$$\\left\\{\\begin{matrix}\n",
    "0 & if \\quad x_i = 0 \\quad or \\quad y_j = 0\\\\ \n",
    "1 + L(i-1, j-1) & if \\quad x_i = y_j\\\\ \n",
    "L(i, j-1) & if \\quad x_i \\neq y_j\n",
    "\\end{matrix}\\right.$$\n",
    "\n",
    "### Runtime analysis\n",
    "This algorithm has two nested for loops of length n and m, therefore the runtime is as follows: $$O(nm)$$"
   ]
  },
  {
   "cell_type": "code",
   "execution_count": 10,
   "metadata": {
    "collapsed": true
   },
   "outputs": [],
   "source": [
    "def LCS_variant(x, y):\n",
    "    n = len(x) + 1\n",
    "    m = len(y) + 1\n",
    "    \n",
    "    L = np.zeros((n, m))\n",
    "    \n",
    "    for i in range(1, n):\n",
    "        for j in range(1, m):\n",
    "            if x[i-1] == y[j-1]:\n",
    "                L[i, j] = 1 + L[i-1, j-1]\n",
    "            else:\n",
    "                L[i, j] = L[i, j-1]\n",
    "    \n",
    "    return L[:,-1].max()"
   ]
  },
  {
   "cell_type": "code",
   "execution_count": 11,
   "metadata": {
    "collapsed": false
   },
   "outputs": [
    {
     "name": "stdout",
     "output_type": "stream",
     "text": [
      "4.0\n"
     ]
    }
   ],
   "source": [
    "x = ['a', 'b', 'd', 'b', 'a', 'b', 'f', 'g', 'd']\n",
    "y = ['b', 'e', 't', 'f', 'd', 'b', 'f', 'a', 'f', 'r']\n",
    "\n",
    "print(LCS_variant(x, y))"
   ]
  },
  {
   "cell_type": "markdown",
   "metadata": {},
   "source": [
    "## Maximum Product\n",
    "Given a string of integers Z = $z_1, z_2, ... , z_n$ and an integer $k$ where $0 \\leq k < n$, maximize the mathematical result of the string by adding *exactly* $k$ operators. \n",
    "\n",
    "### Definition\n",
    "Let P(i,k) be the maximum product made from $z_1, z_2, ... , z_i$ with k multiplication operators and where $z_i$ and $k$ are included. \n",
    "\n",
    "### Recurrence\n",
    "$$\\left\\{\\begin{matrix}\n",
    "z(1:i) & if \\quad k=0\\\\ \n",
    "0 & if \\quad i \\leq k\\\\ \n",
    "max_l\\{z(l+1, i)*P(l,k-1): k \\leq l < i\\} & if \\quad otherwise\n",
    "\\end{matrix}\\right.$$\n",
    "\n",
    "### Runtime analysis\n",
    "This algorithm has three nested for loops of the following runtimes $O(n)$, $O(k)$, $O(n)$, therefore we have a final runtime of $$O(n^2k)$$"
   ]
  },
  {
   "cell_type": "code",
   "execution_count": 12,
   "metadata": {
    "collapsed": true
   },
   "outputs": [],
   "source": [
    "def maximum_product(z, k):\n",
    "    n = len(z) + 1\n",
    "    m = k+1\n",
    "    \n",
    "    P = np.zeros((n, m))\n",
    "    P[1:, 0] = [int(z[:i+1]) for i in range(len(z))]\n",
    "    \n",
    "    for i in range(1, n):\n",
    "        for j in range(1, m):\n",
    "            if i > j:\n",
    "                max_l = j\n",
    "                for l in range(j, i):\n",
    "                    if int(z[l:i]) * P[l, j-1] > int(z[max_l:i]) * P[max_l, j-1]:\n",
    "                         max_l = l\n",
    "                P[i, j] = int(z[max_l:i]) * P[max_l, j-1]\n",
    "    \n",
    "    return P[-1, -1]"
   ]
  },
  {
   "cell_type": "code",
   "execution_count": 13,
   "metadata": {
    "collapsed": false
   },
   "outputs": [
    {
     "name": "stdout",
     "output_type": "stream",
     "text": [
      "18688.0\n"
     ]
    }
   ],
   "source": [
    "z = str(84738)\n",
    "k = 3\n",
    "\n",
    "print(maximum_product(z, k))"
   ]
  },
  {
   "cell_type": "markdown",
   "metadata": {},
   "source": [
    "## Change coin variant\n",
    "You are given denominations $x_1, x_2, ... , x_n$ and you want to make change for a value B. You can only use at most $k$ coins and use each denomination at most once. \n",
    "\n",
    "### Definition\n",
    "Let C(i,b) = the minimum number of coins who add up to exactly $b_i$.\n",
    "\n",
    "### Recurrence\n",
    "$$\\left\\{\\begin{matrix}\n",
    "min\\{C(i-1, b-x_i) + 1, C(i-1, b)\\} & if \\quad x_i \\leq b\\\\ \n",
    "C(i-1,b) & if \\quad x_i > b\n",
    "\\end{matrix}\\right.$$\n",
    "\n",
    "### Runtime analysis\n",
    "$$O(nB)$$"
   ]
  },
  {
   "cell_type": "code",
   "execution_count": 14,
   "metadata": {
    "collapsed": false
   },
   "outputs": [],
   "source": [
    "def change_coins(x, k, B):\n",
    "    n = len(x) + 1\n",
    "    b = np.arange(B+1)\n",
    "    \n",
    "    C = np.zeros((n, len(b)))\n",
    "    C[0, 1:] = 999  # 999 represents infinity in this algorithm\n",
    "    \n",
    "    for i in range(1, n):\n",
    "        for j in range(1, len(b)):\n",
    "            if x[i-1] > b[j]:\n",
    "                C[i,j] = C[i-1, j]\n",
    "            else:\n",
    "                C[i,j] = min(C[i-1, j-x[i-1]]+1, C[i-1, j])\n",
    "                \n",
    "    return C[-1,-1] <= k"
   ]
  },
  {
   "cell_type": "code",
   "execution_count": 15,
   "metadata": {
    "collapsed": false
   },
   "outputs": [
    {
     "name": "stdout",
     "output_type": "stream",
     "text": [
      "True\n"
     ]
    }
   ],
   "source": [
    "x = [2, 2, 1, 3, 1, 1]\n",
    "k = 3\n",
    "B = 7\n",
    "\n",
    "print(change_coins(x, k, B))"
   ]
  },
  {
   "cell_type": "markdown",
   "metadata": {},
   "source": [
    "## Chain multiplication\n",
    "Create an algorithm that minimizes the cost of multiplying $n$ matrices together by creating the optimal combination of parenthesize. Remember the cost of multiplying an $m x n$ matrix by an $n x p$ matrix takes $mnp$ multiplications. That is what we have defined as the *cost*. \n",
    "\n",
    "### Definition\n",
    "Let C(i,j) represent the minimum cost for computing $A_i, A_{i+1}, ... , A_{j}$ matrices. \n",
    "\n",
    "### Recurrence\n",
    "$$C(i,j) = \\min_{i \\leq l < j}[C(i,l) + C(l+1, j) + (m_{i-1}*m_l*m_j)]$$\n",
    "\n",
    "### Runtime analysis\n"
   ]
  },
  {
   "cell_type": "code",
   "execution_count": 31,
   "metadata": {
    "collapsed": false
   },
   "outputs": [],
   "source": [
    "def chain_multiplication(M):\n",
    "    N = len(M)\n",
    "    \n",
    "    C = np.zeros((N, N))\n",
    "    \n",
    "    # set base case\n",
    "    for i in range(N):\n",
    "        C[i, i] = 0\n",
    "        \n",
    "    for s in range(1,N-1):\n",
    "        for i in range(1, N-s):\n",
    "            j = i+s\n",
    "            k_vals = []\n",
    "            for k in range(i, j):\n",
    "                k_vals.append(C[i, k] + C[k+1, j] + M[i-1]*M[k]*M[j])\n",
    "            C[i,j] = min(k_vals)\n",
    "    \n",
    "    return C[1, -1]"
   ]
  },
  {
   "cell_type": "code",
   "execution_count": 32,
   "metadata": {
    "collapsed": false
   },
   "outputs": [
    {
     "name": "stdout",
     "output_type": "stream",
     "text": [
      "7000.0\n"
     ]
    }
   ],
   "source": [
    "M = [50, 20, 1, 10, 100]\n",
    "\n",
    "print(chain_multiplication(M))"
   ]
  },
  {
   "cell_type": "markdown",
   "metadata": {},
   "source": [
    "## Optimal binary tree search\n",
    "Create an algorithm that takes keyword frequencies and constructs a binary tree with the minimum cost of comparisons needed to find a word within the  tree.. \n",
    "\n",
    "### Definition\n",
    "Let $C(i,j)$ represent the minimum average comparisons needed for $p_i, p_{i+1} ... , p_j$ frequencies. \n",
    "\n",
    "### Recurrence\n",
    "$$C(i,j) = \\min_{i \\leq l < j}[C(i,l) + C(l+1, j) + (m_{i-1}*m_l*m_j)]$$\n",
    "\n",
    "### Runtime analysis\n"
   ]
  },
  {
   "cell_type": "code",
   "execution_count": 79,
   "metadata": {
    "collapsed": true
   },
   "outputs": [],
   "source": [
    "def binary_tree_search(P):\n",
    "    N = len(P)\n",
    "    \n",
    "    C = np.zeros((N, N))\n",
    "    \n",
    "    for i in range(1, N):\n",
    "        C[i, i] = P[i]\n",
    "    \n",
    "    for s in range(1,N-1):\n",
    "        for i in range(1, N-s):\n",
    "            j = i+s\n",
    "            k_vals = []\n",
    "            for k in range(i, j+1):\n",
    "                k_vals.append(C[i, k-1] + C[k+1, j] + sum(P[i:j+1]))\n",
    "                print(\"i: {} j: {} sum: {}\".format(i, j, sum(P[i:j+1])))\n",
    "            C[i,j] = min(k_vals)\n",
    "            print(C[i,j])\n",
    "        \n",
    "    return(C.T)"
   ]
  },
  {
   "cell_type": "code",
   "execution_count": 80,
   "metadata": {
    "collapsed": false
   },
   "outputs": [
    {
     "name": "stdout",
     "output_type": "stream",
     "text": [
      "i: 1 j: 2 sum: 45\n",
      "i: 1 j: 2 sum: 45\n",
      "50.0\n",
      "i: 2 j: 3 sum: 48\n",
      "i: 2 j: 3 sum: 48\n",
      "56.0\n",
      "i: 3 j: 4 sum: 12\n",
      "i: 3 j: 4 sum: 12\n",
      "16.0\n",
      "i: 4 j: 5 sum: 14\n",
      "i: 4 j: 5 sum: 14\n",
      "18.0\n",
      "i: 5 j: 6 sum: 20\n",
      "i: 5 j: 6 sum: 20\n",
      "30.0\n",
      "i: 6 j: 7 sum: 33\n"
     ]
    },
    {
     "ename": "IndexError",
     "evalue": "index 8 is out of bounds for axis 0 with size 8",
     "output_type": "error",
     "traceback": [
      "\u001b[0;31m---------------------------------------------------------------------------\u001b[0m",
      "\u001b[0;31mIndexError\u001b[0m                                Traceback (most recent call last)",
      "\u001b[0;32m<ipython-input-80-dec28b525555>\u001b[0m in \u001b[0;36m<module>\u001b[0;34m()\u001b[0m\n\u001b[1;32m      1\u001b[0m \u001b[0mP\u001b[0m \u001b[0;34m=\u001b[0m \u001b[0;34m[\u001b[0m\u001b[0;36m0\u001b[0m\u001b[0;34m,\u001b[0m \u001b[0;36m5\u001b[0m\u001b[0;34m,\u001b[0m \u001b[0;36m40\u001b[0m\u001b[0;34m,\u001b[0m \u001b[0;36m8\u001b[0m\u001b[0;34m,\u001b[0m \u001b[0;36m4\u001b[0m\u001b[0;34m,\u001b[0m \u001b[0;36m10\u001b[0m\u001b[0;34m,\u001b[0m \u001b[0;36m10\u001b[0m\u001b[0;34m,\u001b[0m \u001b[0;36m23\u001b[0m\u001b[0;34m]\u001b[0m\u001b[0;34m\u001b[0m\u001b[0m\n\u001b[1;32m      2\u001b[0m \u001b[0;34m\u001b[0m\u001b[0m\n\u001b[0;32m----> 3\u001b[0;31m \u001b[0mprint\u001b[0m\u001b[0;34m(\u001b[0m\u001b[0mbinary_tree_search\u001b[0m\u001b[0;34m(\u001b[0m\u001b[0mP\u001b[0m\u001b[0;34m)\u001b[0m\u001b[0;34m)\u001b[0m\u001b[0;34m\u001b[0m\u001b[0m\n\u001b[0m",
      "\u001b[0;32m<ipython-input-79-8765efa6f8a3>\u001b[0m in \u001b[0;36mbinary_tree_search\u001b[0;34m(P)\u001b[0m\n\u001b[1;32m     12\u001b[0m             \u001b[0mk_vals\u001b[0m \u001b[0;34m=\u001b[0m \u001b[0;34m[\u001b[0m\u001b[0;34m]\u001b[0m\u001b[0;34m\u001b[0m\u001b[0m\n\u001b[1;32m     13\u001b[0m             \u001b[0;32mfor\u001b[0m \u001b[0mk\u001b[0m \u001b[0;32min\u001b[0m \u001b[0mrange\u001b[0m\u001b[0;34m(\u001b[0m\u001b[0mi\u001b[0m\u001b[0;34m,\u001b[0m \u001b[0mj\u001b[0m\u001b[0;34m+\u001b[0m\u001b[0;36m1\u001b[0m\u001b[0;34m)\u001b[0m\u001b[0;34m:\u001b[0m\u001b[0;34m\u001b[0m\u001b[0m\n\u001b[0;32m---> 14\u001b[0;31m                 \u001b[0mk_vals\u001b[0m\u001b[0;34m.\u001b[0m\u001b[0mappend\u001b[0m\u001b[0;34m(\u001b[0m\u001b[0mC\u001b[0m\u001b[0;34m[\u001b[0m\u001b[0mi\u001b[0m\u001b[0;34m,\u001b[0m \u001b[0mk\u001b[0m\u001b[0;34m-\u001b[0m\u001b[0;36m1\u001b[0m\u001b[0;34m]\u001b[0m \u001b[0;34m+\u001b[0m \u001b[0mC\u001b[0m\u001b[0;34m[\u001b[0m\u001b[0mk\u001b[0m\u001b[0;34m+\u001b[0m\u001b[0;36m1\u001b[0m\u001b[0;34m,\u001b[0m \u001b[0mj\u001b[0m\u001b[0;34m]\u001b[0m \u001b[0;34m+\u001b[0m \u001b[0msum\u001b[0m\u001b[0;34m(\u001b[0m\u001b[0mP\u001b[0m\u001b[0;34m[\u001b[0m\u001b[0mi\u001b[0m\u001b[0;34m:\u001b[0m\u001b[0mj\u001b[0m\u001b[0;34m+\u001b[0m\u001b[0;36m1\u001b[0m\u001b[0;34m]\u001b[0m\u001b[0;34m)\u001b[0m\u001b[0;34m)\u001b[0m\u001b[0;34m\u001b[0m\u001b[0m\n\u001b[0m\u001b[1;32m     15\u001b[0m                 \u001b[0mprint\u001b[0m\u001b[0;34m(\u001b[0m\u001b[0;34m\"i: {} j: {} sum: {}\"\u001b[0m\u001b[0;34m.\u001b[0m\u001b[0mformat\u001b[0m\u001b[0;34m(\u001b[0m\u001b[0mi\u001b[0m\u001b[0;34m,\u001b[0m \u001b[0mj\u001b[0m\u001b[0;34m,\u001b[0m \u001b[0msum\u001b[0m\u001b[0;34m(\u001b[0m\u001b[0mP\u001b[0m\u001b[0;34m[\u001b[0m\u001b[0mi\u001b[0m\u001b[0;34m:\u001b[0m\u001b[0mj\u001b[0m\u001b[0;34m+\u001b[0m\u001b[0;36m1\u001b[0m\u001b[0;34m]\u001b[0m\u001b[0;34m)\u001b[0m\u001b[0;34m)\u001b[0m\u001b[0;34m)\u001b[0m\u001b[0;34m\u001b[0m\u001b[0m\n\u001b[1;32m     16\u001b[0m             \u001b[0mC\u001b[0m\u001b[0;34m[\u001b[0m\u001b[0mi\u001b[0m\u001b[0;34m,\u001b[0m\u001b[0mj\u001b[0m\u001b[0;34m]\u001b[0m \u001b[0;34m=\u001b[0m \u001b[0mmin\u001b[0m\u001b[0;34m(\u001b[0m\u001b[0mk_vals\u001b[0m\u001b[0;34m)\u001b[0m\u001b[0;34m\u001b[0m\u001b[0m\n",
      "\u001b[0;31mIndexError\u001b[0m: index 8 is out of bounds for axis 0 with size 8"
     ]
    }
   ],
   "source": [
    "P = [0, 5, 40, 8, 4, 10, 10, 23]\n",
    "\n",
    "print(binary_tree_search(P))"
   ]
  },
  {
   "cell_type": "code",
   "execution_count": 37,
   "metadata": {
    "collapsed": false
   },
   "outputs": [
    {
     "name": "stdout",
     "output_type": "stream",
     "text": [
      "218\n"
     ]
    }
   ],
   "source": [
    "print(sum([40, 2*5, 2*23, 3*10, 4*8, 4*10, 5*4]))"
   ]
  },
  {
   "cell_type": "markdown",
   "metadata": {},
   "source": [
    "# Testing algorithms"
   ]
  },
  {
   "cell_type": "markdown",
   "metadata": {},
   "source": [
    "## Algorithm Design 6.2"
   ]
  },
  {
   "cell_type": "code",
   "execution_count": 100,
   "metadata": {
    "collapsed": false
   },
   "outputs": [],
   "source": [
    "def job_planning(l, h):\n",
    "    l.insert(0, 0)\n",
    "    h.insert(0, 0)\n",
    "    n = len(l)\n",
    "    \n",
    "    V = np.zeros(n)\n",
    "    \n",
    "    for i in range(1, n):\n",
    "        if i > 1:\n",
    "            V[i] = max(h[i] + V[i-2], l[i] + V[i-1])\n",
    "        else: \n",
    "            V[i] = l[i]\n",
    "                \n",
    "    print(V.T)\n",
    "    \n",
    "    return V[-1]"
   ]
  },
  {
   "cell_type": "code",
   "execution_count": 102,
   "metadata": {
    "collapsed": false
   },
   "outputs": [
    {
     "name": "stdout",
     "output_type": "stream",
     "text": [
      "[  0.  10.  50.  60.  70.]\n",
      "70.0\n"
     ]
    }
   ],
   "source": [
    "l = [10, 1, 10, 10]\n",
    "h = [5, 50, 5, 10]\n",
    "\n",
    "print(job_planning(l, h))"
   ]
  },
  {
   "cell_type": "markdown",
   "metadata": {},
   "source": [
    "## Algorithm Design 6.4"
   ]
  },
  {
   "cell_type": "code",
   "execution_count": 120,
   "metadata": {
    "collapsed": true
   },
   "outputs": [],
   "source": [
    "def business_planning(ny, sf):\n",
    "    ny.insert(0, 0)\n",
    "    sf.insert(0, 0)\n",
    "    n = len(ny)\n",
    "    \n",
    "    C = np.zeros(n)\n",
    "    C[1] = min(ny[1], sf[1])\n",
    "    \n",
    "    for i in range(2, n):\n",
    "        if C[i-1] - ny[i-1] == C[i-2]:\n",
    "            C[i] = min(C[i-1] + ny[i], C[i-1] + sf[i] + 10)\n",
    "        elif C[i-1] - sf[i-1] == C[i-2]:\n",
    "            C[i] = min(C[i-1] + ny[i] + 10 , C[i-1] + sf[i])\n",
    "        else:\n",
    "            print(\"why\")\n",
    "    \n",
    "    print(C.T)\n",
    "    return C[-1]"
   ]
  },
  {
   "cell_type": "code",
   "execution_count": 121,
   "metadata": {
    "collapsed": false
   },
   "outputs": [
    {
     "name": "stdout",
     "output_type": "stream",
     "text": [
      "why\n",
      "[  0.   1.   4.  16.   0.]\n",
      "0.0\n"
     ]
    }
   ],
   "source": [
    "ny = [1, 3, 20, 30]\n",
    "sf = [50, 20, 2, 4]\n",
    "\n",
    "print(business_planning(ny, sf))"
   ]
  },
  {
   "cell_type": "markdown",
   "metadata": {},
   "source": [
    "## Algorithm Design 6.7"
   ]
  },
  {
   "cell_type": "code",
   "execution_count": 136,
   "metadata": {
    "collapsed": true
   },
   "outputs": [],
   "source": [
    "def profit(p):\n",
    "    n = len(p)\n",
    "    M = np.zeros(n)\n",
    "    \n",
    "    for i in range(1, n):\n",
    "        if p[i-1] < p[i]:\n",
    "            M[i] = M[i-1] + (p[i] - p[i-1])\n",
    "        else:\n",
    "            M[i] = 0\n",
    "\n",
    "    return M.max()"
   ]
  },
  {
   "cell_type": "code",
   "execution_count": 137,
   "metadata": {
    "collapsed": false
   },
   "outputs": [
    {
     "name": "stdout",
     "output_type": "stream",
     "text": [
      "9.0\n"
     ]
    }
   ],
   "source": [
    "a = [10, 15, 6, 3, 7, 12, 2, 9]\n",
    "print(profit(a))"
   ]
  },
  {
   "cell_type": "markdown",
   "metadata": {},
   "source": [
    "## Algorithm Design 6.8"
   ]
  },
  {
   "cell_type": "code",
   "execution_count": 148,
   "metadata": {
    "collapsed": true
   },
   "outputs": [],
   "source": [
    "def EMP(x, f):\n",
    "    x.insert(0, 0)\n",
    "    f.insert(0, 0)\n",
    "    n = len(x)\n",
    "    \n",
    "    K = np.zeros(n)\n",
    "    \n",
    "    for i in range(1, n):\n",
    "        options = []\n",
    "        for j in (1, i):\n",
    "            options.append(K[j-1] + min(x[i], f[i-(j-1)]))\n",
    "        K[i] = max(options)\n",
    "    \n",
    "    print(K.T)\n",
    "    return K[-1]"
   ]
  },
  {
   "cell_type": "code",
   "execution_count": 149,
   "metadata": {
    "collapsed": false
   },
   "outputs": [
    {
     "name": "stdout",
     "output_type": "stream",
     "text": [
      "[ 0.  1.  2.  4.  5.]\n",
      "5.0\n"
     ]
    }
   ],
   "source": [
    "x = [1, 10, 10, 1]\n",
    "f = [1, 2, 4, 8]\n",
    "\n",
    "print(EMP(x, f))"
   ]
  },
  {
   "cell_type": "markdown",
   "metadata": {},
   "source": [
    "## Algorithm Design 6.8"
   ]
  }
 ],
 "metadata": {
  "kernelspec": {
   "display_name": "Python 3",
   "language": "python",
   "name": "python3"
  },
  "language_info": {
   "codemirror_mode": {
    "name": "ipython",
    "version": 3
   },
   "file_extension": ".py",
   "mimetype": "text/x-python",
   "name": "python",
   "nbconvert_exporter": "python",
   "pygments_lexer": "ipython3",
   "version": "3.6.0"
  },
  "toc": {
   "nav_menu": {},
   "number_sections": true,
   "sideBar": true,
   "skip_h1_title": false,
   "toc_cell": false,
   "toc_position": {},
   "toc_section_display": "block",
   "toc_window_display": true
  }
 },
 "nbformat": 4,
 "nbformat_minor": 2
}
