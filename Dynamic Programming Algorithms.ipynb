{
 "cells": [
  {
   "cell_type": "code",
   "execution_count": 5,
   "metadata": {
    "collapsed": true
   },
   "outputs": [],
   "source": [
    "import numpy as np\n",
    "import pandas as pd"
   ]
  },
  {
   "cell_type": "markdown",
   "metadata": {},
   "source": [
    "# Dynamic Programming Examples\n",
    "\n",
    "Dynamic programming is..."
   ]
  },
  {
   "cell_type": "markdown",
   "metadata": {},
   "source": [
    "## Knapsack (without repetition)\n",
    "You are given a knapsack that holds a total of $W$ pounds. There are $n$ items to choose from, of weights $w_1, w_2, ..., w_n$ and values $v_1, v_2, ..., v_n$. What is the most valuable combination you can fit into your bag? \n",
    "\n",
    "### Definition\n",
    "Define K(i,j) to be the maximum value achieved from using items $x_1, x_2, ... , x_i$ with weight equal to $w_j$. \n",
    "\n",
    "### Recurrence\n",
    "$$\\left\\{\\begin{matrix}\n",
    "max\\{K(i-1, j-x_i) + x_i, K(i-1, j)\\} & if \\quad j \\geq x_i\\\\ \n",
    "K(i-1, j) & if \\quad j < x_i\n",
    "\\end{matrix}\\right.$$\n",
    "\n",
    "### Runtime analysis\n",
    "$$O(nW)$$"
   ]
  },
  {
   "cell_type": "code",
   "execution_count": 44,
   "metadata": {
    "collapsed": true
   },
   "outputs": [],
   "source": [
    "def knapsack_no_rep(W, x):\n",
    "    n = len(x) + 1\n",
    "    w = np.arange(W+1)\n",
    "    \n",
    "    K = np.zeros((n, len(w)))\n",
    "    \n",
    "    for i in range(1, n):\n",
    "        for j in range(1, len(w)):\n",
    "            if j >= x[i-1][0]:\n",
    "                K[i, j] = max(K[i-1, j-x[i-1][0]] + x[i-1][1], K[i-1, j])\n",
    "            else:\n",
    "                K[i, j] = K[i-1, j]\n",
    "\n",
    "    return K[-1, -1]"
   ]
  },
  {
   "cell_type": "code",
   "execution_count": 45,
   "metadata": {
    "collapsed": false
   },
   "outputs": [
    {
     "name": "stdout",
     "output_type": "stream",
     "text": [
      "46.0\n"
     ]
    }
   ],
   "source": [
    "W = 10\n",
    "x = [(6, 30), (3, 14), (4, 16), (2, 9)]  # each item in x represents (weight, value)\n",
    "print(knapsack_no_rep(W, x))"
   ]
  },
  {
   "cell_type": "markdown",
   "metadata": {},
   "source": [
    "## Knapsack (with repetition)\n",
    "You are given a knapsack that holds a total of $W$ pounds. There are $n$ items to choose from, of weights $w_1, w_2, ..., w_n$ and values $v_1, v_2, ..., v_n$. What is the most valuable combination you can fit into your bag *when you are allowed to use an item more than once*? \n",
    "\n",
    "### Definition\n",
    "Define K(w) to be the maximum value with a knapsack of weight $w$ achieved from using items $x_1, x_2, ... , x_n$. \n",
    "\n",
    "### Recurrence\n",
    "$$\\max _{i:w_j \\leq w}\\{K(w-w_i) + v_i\\}$$\n",
    "\n",
    "### Runtime analysis\n",
    "$$O(nW)$$"
   ]
  },
  {
   "cell_type": "code",
   "execution_count": 64,
   "metadata": {
    "collapsed": true
   },
   "outputs": [],
   "source": [
    "def knapsack_rep(W, x):\n",
    "    \n",
    "    K = np.zeros(W+1)\n",
    "    \n",
    "    for i in range(1, W+1):\n",
    "        values = [0]\n",
    "        for j in range(len(x)):\n",
    "            if x[j][0] <= i:\n",
    "                values.append(K[i-x[j][0]] + x[j][1])\n",
    "        K[i] = max(values)\n",
    "    \n",
    "    print(K)\n",
    "    return K[-1]"
   ]
  },
  {
   "cell_type": "code",
   "execution_count": 65,
   "metadata": {
    "collapsed": false
   },
   "outputs": [
    {
     "name": "stdout",
     "output_type": "stream",
     "text": [
      "[  0.   0.   9.  14.  18.  23.  30.  32.  39.  44.  48.]\n",
      "48.0\n"
     ]
    }
   ],
   "source": [
    "W = 10\n",
    "x = [(6, 30), (3, 14), (4, 16), (2, 9)]  # each item in x represents (weight, value)\n",
    "print(knapsack_rep(W, x))"
   ]
  },
  {
   "cell_type": "markdown",
   "metadata": {},
   "source": [
    "## Palindrome length\n",
    "Create an algorithm that takes in a sequence x[1..n] and returns the length of the longest palindromic subsequence. The run time should be $O(n^2)$.\n",
    "\n",
    "### Definition\n",
    "Define $a'$ to be the reverse of string $a$.\n",
    "Let L(i,j) be the length of the longest palindromic length in string in $a_1, a_2, ..., a_i$ and $a'_1, a'_2, ... a'_j$ where both $a_i$ and $a'_j$ are included.\n",
    "\n",
    "### Recurrence\n",
    "$$\\left\\{\\begin{matrix}\n",
    "0 & if \\quad a_i \\neq a'_j\\\\ \n",
    "1 + L(i-1, j-1) & if \\quad x_i = y_j\n",
    "\\end{matrix}\\right.$$\n",
    "\n",
    "### Runtime analysis\n",
    "Because this algorithm has two nested for loops of length n, the runtime is as follows $$O(n^2)$$"
   ]
  },
  {
   "cell_type": "code",
   "execution_count": 18,
   "metadata": {
    "collapsed": true
   },
   "outputs": [],
   "source": [
    "def palindrome(s):\n",
    "    n = len(s) + 1\n",
    "    s_prime = s[::-1]  # reverse s\n",
    "    \n",
    "    L = np.zeros((n, n))\n",
    "    \n",
    "    for i in range(1, n):\n",
    "        for j in range(1, n):\n",
    "            if s[i-1] == s_prime[j-1]:\n",
    "                L[i, j] = 1 + L[i-1, j-1]\n",
    "            else:\n",
    "                L[i, j] = 0\n",
    "    \n",
    "    return L.max()"
   ]
  },
  {
   "cell_type": "code",
   "execution_count": 17,
   "metadata": {
    "collapsed": false
   },
   "outputs": [
    {
     "name": "stdout",
     "output_type": "stream",
     "text": [
      "5.0\n"
     ]
    }
   ],
   "source": [
    "s = 'aabbbcsbcbsab'\n",
    "print(palindrome(s))"
   ]
  },
  {
   "cell_type": "markdown",
   "metadata": {},
   "source": [
    "## Common Sub*?!* length\n",
    "Given two strings X = $x_1, x_2, ... x_n$ and Y = $y_1, y_2, ... y_m$ give an algorithm to find the length k of the longest string Z appears as a *substring* of X and a *subsequence* of Y. \n",
    "\n",
    "### Definition\n",
    "Let L(i,j) be the length of the longest common sub*?!* in $x_1, x_2, ... , x_i$ and $y_1, y_2, ... y_j$ where both $x_i$ and $y_i$ are included.\n",
    "\n",
    "\n",
    "### Recurrence\n",
    "$$\\left\\{\\begin{matrix}\n",
    "0 & if \\quad x_i = 0 \\quad or \\quad y_j = 0\\\\ \n",
    "1 + L(i-1, j-1) & if \\quad x_i = y_j\\\\ \n",
    "L(i, j-1) & if \\quad x_i \\neq y_j\n",
    "\\end{matrix}\\right.$$\n",
    "\n",
    "### Runtime analysis\n",
    "This algorithm has two nested for loops of length n and m, therefore the runtime is as follows: $$O(nm)$$"
   ]
  },
  {
   "cell_type": "code",
   "execution_count": 12,
   "metadata": {
    "collapsed": true
   },
   "outputs": [],
   "source": [
    "def LCS_variant(x, y):\n",
    "    n = len(x) + 1\n",
    "    m = len(y) + 1\n",
    "    \n",
    "    L = np.zeros((n, m))\n",
    "    \n",
    "    for i in range(1, n):\n",
    "        for j in range(1, m):\n",
    "            if x[i-1] == y[j-1]:\n",
    "                L[i, j] = 1 + L[i-1, j-1]\n",
    "            else:\n",
    "                L[i, j] = L[i, j-1]\n",
    "    \n",
    "    return L[:,-1].max()"
   ]
  },
  {
   "cell_type": "code",
   "execution_count": 13,
   "metadata": {
    "collapsed": false
   },
   "outputs": [
    {
     "name": "stdout",
     "output_type": "stream",
     "text": [
      "4.0\n"
     ]
    }
   ],
   "source": [
    "x = ['a', 'b', 'd', 'b', 'a', 'b', 'f', 'g', 'd']\n",
    "y = ['b', 'e', 't', 'f', 'd', 'b', 'f', 'a', 'f', 'r']\n",
    "\n",
    "print(LCS_variant(x, y))"
   ]
  },
  {
   "cell_type": "markdown",
   "metadata": {},
   "source": [
    "## Maximum Product\n",
    "Given a string of integers Z = $z_1, z_2, ... , z_n$ and an integer $k$ where $0 \\leq k < n$, maximize the mathematical result of the string by adding *exactly* $k$ operators. \n",
    "\n",
    "### Definition\n",
    "Let P(i,k) be the maximum product made from $z_1, z_2, ... , z_i$ with k multiplication operators and where $z_i$ and $k$ are included. \n",
    "\n",
    "### Recurrence\n",
    "$$\\left\\{\\begin{matrix}\n",
    "z(1:i) & if \\quad k=0\\\\ \n",
    "0 & if \\quad i \\leq k\\\\ \n",
    "max_l\\{z(l+1, i)*P(l,k-1): k \\leq l < i\\} & if \\quad otherwise\n",
    "\\end{matrix}\\right.$$\n",
    "\n",
    "### Runtime analysis\n",
    "This algorithm has three nested for loops of the following runtimes $O(n)$, $O(k)$, $O(n)$, therefore we have a final runtime of $$O(n^2k)$$"
   ]
  },
  {
   "cell_type": "code",
   "execution_count": 4,
   "metadata": {
    "collapsed": true
   },
   "outputs": [],
   "source": [
    "def maximum_product(z, k):\n",
    "    n = len(z) + 1\n",
    "    m = k+1\n",
    "    \n",
    "    P = np.zeros((n, m))\n",
    "    P[1:, 0] = [int(z[:i+1]) for i in range(len(z))]\n",
    "    \n",
    "    for i in range(1, n):\n",
    "        for j in range(1, m):\n",
    "            if i > j:\n",
    "                max_l = j\n",
    "                for l in range(j, i):\n",
    "                    if int(z[l:i]) * P[l, j-1] > int(z[max_l:i]) * P[max_l, j-1]:\n",
    "                         max_l = l\n",
    "                P[i, j] = int(z[max_l:i]) * P[max_l, j-1]\n",
    "    \n",
    "    return P[-1, -1]"
   ]
  },
  {
   "cell_type": "code",
   "execution_count": 5,
   "metadata": {
    "collapsed": false
   },
   "outputs": [
    {
     "name": "stdout",
     "output_type": "stream",
     "text": [
      "18688.0\n"
     ]
    }
   ],
   "source": [
    "z = str(84738)\n",
    "k = 3\n",
    "\n",
    "print(maximum_product(z, k))"
   ]
  },
  {
   "cell_type": "markdown",
   "metadata": {},
   "source": [
    "## Change coin variant\n",
    "You are given denominations $x_1, x_2, ... , x_n$ and you want to make change for a value B. You can only use at most $k$ coins and use each denomination at most once. \n",
    "\n",
    "### Definition\n",
    "Let C(i,b) = the minimum number of coins who add up to exactly $b_i$.\n",
    "\n",
    "### Recurrence\n",
    "$$\\left\\{\\begin{matrix}\n",
    "min\\{C(i-1, b-x_i) + 1, C(i-1, b)\\} & if \\quad x_i \\leq b\\\\ \n",
    "C(i-1,b) & if \\quad x_i > b\n",
    "\\end{matrix}\\right.$$\n",
    "\n",
    "### Runtime analysis\n",
    "$$O(nB)$$"
   ]
  },
  {
   "cell_type": "code",
   "execution_count": 29,
   "metadata": {
    "collapsed": false
   },
   "outputs": [],
   "source": [
    "def change_coins(x, k, B):\n",
    "    n = len(x) + 1\n",
    "    b = np.arange(B+1)\n",
    "    \n",
    "    C = np.zeros((n, len(b)))\n",
    "    C[0, 1:] = 999  # 999 represents infinity in this algorithm\n",
    "    \n",
    "    for i in range(1, n):\n",
    "        for j in range(1, len(b)):\n",
    "            if x[i-1] > b[j]:\n",
    "                C[i,j] = C[i-1, j]\n",
    "            else:\n",
    "                C[i,j] = min(C[i-1, j-x[i-1]]+1, C[i-1, j])\n",
    "                \n",
    "    return C[-1,-1] <= k"
   ]
  },
  {
   "cell_type": "code",
   "execution_count": 28,
   "metadata": {
    "collapsed": false
   },
   "outputs": [
    {
     "name": "stdout",
     "output_type": "stream",
     "text": [
      "True\n"
     ]
    }
   ],
   "source": [
    "x = [2, 2, 1, 3, 1, 1]\n",
    "k = 3\n",
    "B = 7\n",
    "\n",
    "print(change_coins(x, k, B))"
   ]
  }
 ],
 "metadata": {
  "kernelspec": {
   "display_name": "Python 3",
   "language": "python",
   "name": "python3"
  },
  "language_info": {
   "codemirror_mode": {
    "name": "ipython",
    "version": 3
   },
   "file_extension": ".py",
   "mimetype": "text/x-python",
   "name": "python",
   "nbconvert_exporter": "python",
   "pygments_lexer": "ipython3",
   "version": "3.6.0"
  },
  "toc": {
   "nav_menu": {},
   "number_sections": true,
   "sideBar": true,
   "skip_h1_title": false,
   "toc_cell": false,
   "toc_position": {},
   "toc_section_display": "block",
   "toc_window_display": true
  }
 },
 "nbformat": 4,
 "nbformat_minor": 2
}
