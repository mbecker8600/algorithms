{
 "cells": [
  {
   "cell_type": "code",
   "execution_count": 1,
   "metadata": {
    "collapsed": true
   },
   "outputs": [],
   "source": [
    "import numpy as np\n",
    "import pandas as pd"
   ]
  },
  {
   "cell_type": "code",
   "execution_count": 2,
   "metadata": {
    "collapsed": true
   },
   "outputs": [],
   "source": [
    "def LCS_variant(x, y):\n",
    "    n = len(x) + 1\n",
    "    m = len(y) + 1\n",
    "    \n",
    "    L = np.zeros((n, m))\n",
    "    \n",
    "    for i in range(1, n):\n",
    "        for j in range(1, m):\n",
    "            if x[i-1] == y[j-1]:\n",
    "                L[i, j] = 1 + L[i-1, j-1]\n",
    "            else:\n",
    "                L[i, j] = L[i, j-1]\n",
    "    \n",
    "    max_i = 0\n",
    "    for i in range(1,n):\n",
    "        if L[i, -1] > L[max_i, -1]:\n",
    "            max_i = i\n",
    "    \n",
    "    return L[max_i, -1]"
   ]
  },
  {
   "cell_type": "code",
   "execution_count": 3,
   "metadata": {
    "collapsed": false
   },
   "outputs": [
    {
     "name": "stdout",
     "output_type": "stream",
     "text": [
      "4.0\n"
     ]
    }
   ],
   "source": [
    "x = ['a', 'b', 'd', 'b', 'a', 'b', 'f', 'g', 'd']\n",
    "y = ['b', 'e', 't', 'f', 'd', 'b', 'f', 'a', 'f', 'r']\n",
    "\n",
    "print(LCS_variant(x, y))"
   ]
  },
  {
   "cell_type": "code",
   "execution_count": 4,
   "metadata": {
    "collapsed": true
   },
   "outputs": [],
   "source": [
    "def maximum_product(z, k):\n",
    "    n = len(z) + 1\n",
    "    m = k+1\n",
    "    \n",
    "    P = np.zeros((n, m))\n",
    "    P[1:, 0] = [int(z[:i+1]) for i in range(len(z))]\n",
    "    \n",
    "    for i in range(1, n):\n",
    "        for j in range(1, m):\n",
    "            if i > j:\n",
    "                max_l = j\n",
    "                for l in range(j, i):\n",
    "                    if int(z[l:i]) * P[l, j-1] > int(z[max_l:i]) * P[max_l, j-1]:\n",
    "                         max_l = l\n",
    "                P[i, j] = int(z[max_l:i]) * P[max_l, j-1]\n",
    "    \n",
    "    return P[-1, -1]"
   ]
  },
  {
   "cell_type": "code",
   "execution_count": 5,
   "metadata": {
    "collapsed": false
   },
   "outputs": [
    {
     "name": "stdout",
     "output_type": "stream",
     "text": [
      "18688.0\n"
     ]
    }
   ],
   "source": [
    "z = str(84738)\n",
    "k = 3\n",
    "\n",
    "print(maximum_product(z, k))"
   ]
  },
  {
   "cell_type": "code",
   "execution_count": 6,
   "metadata": {
    "collapsed": true
   },
   "outputs": [],
   "source": [
    "def change_coins(x, k, B):\n",
    "    n = len(x) + 1\n",
    "    m = k + 1\n",
    "    \n",
    "    D = np.zeros((n, m))\n",
    "    D[: , 0] = B  # base case\n",
    "    D[0, :] = B  # base case\n",
    "    \n",
    "    for i in range(1, n):\n",
    "        for j in range(1, m):\n",
    "            minimum = abs((D[i-1, j-1] - x[i-1]))\n",
    "            if D[i-1, j] < minimum:\n",
    "                minimum = D[i-1, j]\n",
    "            D[i, j] = minimum\n",
    "    \n",
    "    print(D.T)"
   ]
  },
  {
   "cell_type": "code",
   "execution_count": null,
   "metadata": {
    "collapsed": true
   },
   "outputs": [],
   "source": []
  }
 ],
 "metadata": {
  "kernelspec": {
   "display_name": "Python 3",
   "language": "python",
   "name": "python3"
  },
  "language_info": {
   "codemirror_mode": {
    "name": "ipython",
    "version": 3
   },
   "file_extension": ".py",
   "mimetype": "text/x-python",
   "name": "python",
   "nbconvert_exporter": "python",
   "pygments_lexer": "ipython3",
   "version": "3.6.0"
  }
 },
 "nbformat": 4,
 "nbformat_minor": 2
}
