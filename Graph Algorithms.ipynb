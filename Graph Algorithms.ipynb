{
 "cells": [
  {
   "cell_type": "code",
   "execution_count": 42,
   "metadata": {
    "collapsed": true
   },
   "outputs": [],
   "source": [
    "import networkx as nx  # https://networkx.github.io/documentation/networkx-1.11/reference/introduction.html\n",
    "import matplotlib.pyplot as plt\n",
    "import numpy as np\n",
    "from queue import Queue"
   ]
  },
  {
   "cell_type": "markdown",
   "metadata": {},
   "source": [
    "# Graph Theory"
   ]
  },
  {
   "cell_type": "markdown",
   "metadata": {},
   "source": [
    "## Search functions"
   ]
  },
  {
   "cell_type": "code",
   "execution_count": 84,
   "metadata": {
    "collapsed": false
   },
   "outputs": [],
   "source": [
    "def bfs(G, s):\n",
    "    \"\"\"\n",
    "    This is a breadth first search algorithm that will return the distance of all of the vertices from the start vertex s. \n",
    "    \n",
    "    Input:\n",
    "    G -- The input graph\n",
    "    s -- The start vertex\n",
    "    \n",
    "    Return: \n",
    "    dist -- a distance vector of each vertex from the start vertex s\n",
    "    \n",
    "    \"\"\"\n",
    "    \n",
    "    dist = {}\n",
    "    \n",
    "    for v in G:\n",
    "        dist[v] = np.inf\n",
    "    \n",
    "    dist[s] = 0  # initalize start vertex distance to 0\n",
    "    \n",
    "    q = Queue()\n",
    "    q.put(s)\n",
    "    \n",
    "    while not q.empty():\n",
    "        u = q.get()\n",
    "        for v in nx.all_neighbors(G, u):\n",
    "            if np.isinf(dist[v]):\n",
    "                q.put(v)\n",
    "                dist[v] = dist[u] + 1\n",
    "    \n",
    "    return dist"
   ]
  },
  {
   "cell_type": "code",
   "execution_count": 86,
   "metadata": {
    "collapsed": true
   },
   "outputs": [],
   "source": [
    "def dijkstras(G, l, s):\n",
    "    pass"
   ]
  },
  {
   "cell_type": "code",
   "execution_count": 127,
   "metadata": {
    "collapsed": false
   },
   "outputs": [],
   "source": [
    "def dfs(G):\n",
    "    \"\"\"\n",
    "    This is a depth first search algorithm that will return the pre/post orderings of all of the nodes within the graph. \n",
    "    \n",
    "    Input:\n",
    "    G -- The input graph\n",
    "    s -- The start vertex\n",
    "    \n",
    "    Return: \n",
    "    ordering -- the pre/post ordering of all of the discoverable graph vertices from start vertex s \n",
    "    \n",
    "    \"\"\"\n",
    "    visited = {}\n",
    "    ordering = {}\n",
    "    c = 0\n",
    "    \n",
    "    for v in G:\n",
    "        visited[v] = False\n",
    "        ordering[v] = (0,0)  # initialize to empty tuple for the (pre,post) ordering\n",
    "        \n",
    "    for v in G:\n",
    "        if not visited[v]:\n",
    "            explore(G, v, visited, ordering, c)\n",
    "    \n",
    "    print(ordering)\n",
    "    \n",
    "\n",
    "def explore(G, v, visited, ordering, c):\n",
    "    \"\"\"\n",
    "    The recursive explore method that explores all of the reachable nodes from a given start. \n",
    "    \n",
    "    Input:\n",
    "    G -- The input graph\n",
    "    s -- The start vertex\n",
    "    \n",
    "    Return:\n",
    "    c -- the clock num tracking used for the pre/post visits\n",
    "    \n",
    "    \n",
    "    \"\"\"\n",
    "    visited[v] = True\n",
    "    c += 1\n",
    "    ordering[v] = (c, ordering[v][1])  # update previst\n",
    "    \n",
    "    for u in nx.all_neighbors(G, v): \n",
    "        if not visited[u]:\n",
    "            c = explore(G, u, visited, ordering, c)\n",
    "    \n",
    "    c += 1\n",
    "    ordering[v] = (ordering[v][0], c)  # update postvist\n",
    "    return c"
   ]
  },
  {
   "cell_type": "markdown",
   "metadata": {},
   "source": [
    "## Utility functions"
   ]
  },
  {
   "cell_type": "code",
   "execution_count": 138,
   "metadata": {
    "collapsed": true
   },
   "outputs": [],
   "source": [
    "def reverse_graph(G):\n",
    "    G_prime = nx.DiGraph()\n",
    "    elist = []\n",
    "    \n",
    "    \n",
    "    for e in G.edges():\n",
    "        elist.append((e[1], e[0]))\n",
    "    \n",
    "    G_prime.add_edges_from(elist)\n",
    "    return G_prime"
   ]
  },
  {
   "cell_type": "markdown",
   "metadata": {},
   "source": [
    "## Figures"
   ]
  },
  {
   "cell_type": "code",
   "execution_count": 17,
   "metadata": {
    "collapsed": false
   },
   "outputs": [
    {
     "data": {
      "image/png": "[encoded data removed]",
      "text/plain": [
       "<matplotlib.figure.Figure at 0x1ac49244400>"
      ]
     },
     "metadata": {},
     "output_type": "display_data"
    }
   ],
   "source": [
    "# Figure 4.1 in DPV Algorithms\n",
    "G = nx.Graph()\n",
    "elist = [('E', 'S'), ('E', 'D'), ('S', 'D'), ('S', 'C'), ('S', 'A'), ('A', 'B'), ('B', 'C')]\n",
    "G.add_edges_from(elist)\n",
    "nx.draw_networkx(G, with_labels=True)\n",
    "plt.show()"
   ]
  },
  {
   "cell_type": "code",
   "execution_count": 83,
   "metadata": {
    "collapsed": false
   },
   "outputs": [
    {
     "name": "stdout",
     "output_type": "stream",
     "text": [
      "{'E': 1, 'S': 0, 'D': 1, 'C': 1, 'A': 1, 'B': 2}\n"
     ]
    }
   ],
   "source": [
    "print(bfs(G, 'S'))"
   ]
  },
  {
   "cell_type": "code",
   "execution_count": 126,
   "metadata": {
    "collapsed": false
   },
   "outputs": [
    {
     "name": "stdout",
     "output_type": "stream",
     "text": [
      "{'E': (1, 12), 'S': (2, 11), 'D': (3, 4), 'C': (5, 10), 'A': (7, 8), 'B': (6, 9)}\n"
     ]
    }
   ],
   "source": [
    "dfs(G)"
   ]
  },
  {
   "cell_type": "code",
   "execution_count": 136,
   "metadata": {
    "collapsed": false
   },
   "outputs": [
    {
     "data": {
      "image/png": "[encoded data removed]",
      "text/plain": [
       "<matplotlib.figure.Figure at 0x1ac492dc5c0>"
      ]
     },
     "metadata": {},
     "output_type": "display_data"
    }
   ],
   "source": [
    "# Figure 3.8 in DPV Algorithms\n",
    "G = nx.DiGraph()\n",
    "elist = [('B', 'A'), ('B', 'D'), ('A', 'C'), ('D', 'C'), ('C', 'F'), ('C', 'E')]\n",
    "G.add_edges_from(elist)\n",
    "nx.draw_networkx(G, with_labels=True)\n",
    "plt.show()"
   ]
  },
  {
   "cell_type": "code",
   "execution_count": 141,
   "metadata": {
    "collapsed": false
   },
   "outputs": [
    {
     "data": {
      "image/png": "[encoded data removed]",
      "text/plain": [
       "<matplotlib.figure.Figure at 0x1ac492af6d8>"
      ]
     },
     "metadata": {},
     "output_type": "display_data"
    }
   ],
   "source": [
    "reverse = reverse_graph(G)\n",
    "nx.draw_networkx(reverse, with_labels=True)\n",
    "plt.show()"
   ]
  }
 ],
 "metadata": {
  "kernelspec": {
   "display_name": "Python 3",
   "language": "python",
   "name": "python3"
  },
  "language_info": {
   "codemirror_mode": {
    "name": "ipython",
    "version": 3
   },
   "file_extension": ".py",
   "mimetype": "text/x-python",
   "name": "python",
   "nbconvert_exporter": "python",
   "pygments_lexer": "ipython3",
   "version": "3.6.0"
  }
 },
 "nbformat": 4,
 "nbformat_minor": 2
}
