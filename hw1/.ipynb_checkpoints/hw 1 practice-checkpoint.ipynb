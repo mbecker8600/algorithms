{
 "cells": [
  {
   "cell_type": "code",
   "execution_count": 41,
   "metadata": {
    "collapsed": true
   },
   "outputs": [],
   "source": [
    "import numpy as np\n",
    "import pandas as pd\n",
    "import matplotlib.pyplot as plt\n",
    "from math import log, exp"
   ]
  },
  {
   "cell_type": "code",
   "execution_count": 86,
   "metadata": {
    "collapsed": false
   },
   "outputs": [],
   "source": [
    "fn = np.array([n**(1/2) for n in range(1, 1000000)])\n",
    "gn = np.array([log(n) ** 3 for n in range(1, 1000000)])"
   ]
  },
  {
   "cell_type": "code",
   "execution_count": 87,
   "metadata": {
    "collapsed": false
   },
   "outputs": [
    {
     "data": {
      "image/png": "[encoded data removed]",
      "text/plain": [
       "<matplotlib.figure.Figure at 0x1186ea828>"
      ]
     },
     "metadata": {},
     "output_type": "display_data"
    }
   ],
   "source": [
    "plt.plot(fn, label='f(n)')\n",
    "plt.plot(gn, label='g(n)')\n",
    "plt.legend()\n",
    "plt.show()"
   ]
  },
  {
   "cell_type": "code",
   "execution_count": 34,
   "metadata": {
    "collapsed": false
   },
   "outputs": [
    {
     "data": {
      "text/plain": [
       "[(100, 200, 300, 500, 700),\n",
       " (100, 200, 300, 700, 500),\n",
       " (100, 200, 500, 300, 700),\n",
       " (100, 200, 500, 700, 300),\n",
       " (100, 200, 700, 300, 500),\n",
       " (100, 200, 700, 500, 300),\n",
       " (100, 300, 200, 500, 700),\n",
       " (100, 300, 200, 700, 500),\n",
       " (100, 300, 500, 200, 700),\n",
       " (100, 300, 500, 700, 200),\n",
       " (100, 300, 700, 200, 500),\n",
       " (100, 300, 700, 500, 200),\n",
       " (100, 500, 200, 300, 700),\n",
       " (100, 500, 200, 700, 300),\n",
       " (100, 500, 300, 200, 700),\n",
       " (100, 500, 300, 700, 200),\n",
       " (100, 500, 700, 200, 300),\n",
       " (100, 500, 700, 300, 200),\n",
       " (100, 700, 200, 300, 500),\n",
       " (100, 700, 200, 500, 300),\n",
       " (100, 700, 300, 200, 500),\n",
       " (100, 700, 300, 500, 200),\n",
       " (100, 700, 500, 200, 300),\n",
       " (100, 700, 500, 300, 200),\n",
       " (200, 100, 300, 500, 700),\n",
       " (200, 100, 300, 700, 500),\n",
       " (200, 100, 500, 300, 700),\n",
       " (200, 100, 500, 700, 300),\n",
       " (200, 100, 700, 300, 500),\n",
       " (200, 100, 700, 500, 300),\n",
       " (200, 300, 100, 500, 700),\n",
       " (200, 300, 100, 700, 500),\n",
       " (200, 300, 500, 100, 700),\n",
       " (200, 300, 500, 700, 100),\n",
       " (200, 300, 700, 100, 500),\n",
       " (200, 300, 700, 500, 100),\n",
       " (200, 500, 100, 300, 700),\n",
       " (200, 500, 100, 700, 300),\n",
       " (200, 500, 300, 100, 700),\n",
       " (200, 500, 300, 700, 100),\n",
       " (200, 500, 700, 100, 300),\n",
       " (200, 500, 700, 300, 100),\n",
       " (200, 700, 100, 300, 500),\n",
       " (200, 700, 100, 500, 300),\n",
       " (200, 700, 300, 100, 500),\n",
       " (200, 700, 300, 500, 100),\n",
       " (200, 700, 500, 100, 300),\n",
       " (200, 700, 500, 300, 100),\n",
       " (300, 100, 200, 500, 700),\n",
       " (300, 100, 200, 700, 500),\n",
       " (300, 100, 500, 200, 700),\n",
       " (300, 100, 500, 700, 200),\n",
       " (300, 100, 700, 200, 500),\n",
       " (300, 100, 700, 500, 200),\n",
       " (300, 200, 100, 500, 700),\n",
       " (300, 200, 100, 700, 500),\n",
       " (300, 200, 500, 100, 700),\n",
       " (300, 200, 500, 700, 100),\n",
       " (300, 200, 700, 100, 500),\n",
       " (300, 200, 700, 500, 100),\n",
       " (300, 500, 100, 200, 700),\n",
       " (300, 500, 100, 700, 200),\n",
       " (300, 500, 200, 100, 700),\n",
       " (300, 500, 200, 700, 100),\n",
       " (300, 500, 700, 100, 200),\n",
       " (300, 500, 700, 200, 100),\n",
       " (300, 700, 100, 200, 500),\n",
       " (300, 700, 100, 500, 200),\n",
       " (300, 700, 200, 100, 500),\n",
       " (300, 700, 200, 500, 100),\n",
       " (300, 700, 500, 100, 200),\n",
       " (300, 700, 500, 200, 100),\n",
       " (500, 100, 200, 300, 700),\n",
       " (500, 100, 200, 700, 300),\n",
       " (500, 100, 300, 200, 700),\n",
       " (500, 100, 300, 700, 200),\n",
       " (500, 100, 700, 200, 300),\n",
       " (500, 100, 700, 300, 200),\n",
       " (500, 200, 100, 300, 700),\n",
       " (500, 200, 100, 700, 300),\n",
       " (500, 200, 300, 100, 700),\n",
       " (500, 200, 300, 700, 100),\n",
       " (500, 200, 700, 100, 300),\n",
       " (500, 200, 700, 300, 100),\n",
       " (500, 300, 100, 200, 700),\n",
       " (500, 300, 100, 700, 200),\n",
       " (500, 300, 200, 100, 700),\n",
       " (500, 300, 200, 700, 100),\n",
       " (500, 300, 700, 100, 200),\n",
       " (500, 300, 700, 200, 100),\n",
       " (500, 700, 100, 200, 300),\n",
       " (500, 700, 100, 300, 200),\n",
       " (500, 700, 200, 100, 300),\n",
       " (500, 700, 200, 300, 100),\n",
       " (500, 700, 300, 100, 200),\n",
       " (500, 700, 300, 200, 100),\n",
       " (700, 100, 200, 300, 500),\n",
       " (700, 100, 200, 500, 300),\n",
       " (700, 100, 300, 200, 500),\n",
       " (700, 100, 300, 500, 200),\n",
       " (700, 100, 500, 200, 300),\n",
       " (700, 100, 500, 300, 200),\n",
       " (700, 200, 100, 300, 500),\n",
       " (700, 200, 100, 500, 300),\n",
       " (700, 200, 300, 100, 500),\n",
       " (700, 200, 300, 500, 100),\n",
       " (700, 200, 500, 100, 300),\n",
       " (700, 200, 500, 300, 100),\n",
       " (700, 300, 100, 200, 500),\n",
       " (700, 300, 100, 500, 200),\n",
       " (700, 300, 200, 100, 500),\n",
       " (700, 300, 200, 500, 100),\n",
       " (700, 300, 500, 100, 200),\n",
       " (700, 300, 500, 200, 100),\n",
       " (700, 500, 100, 200, 300),\n",
       " (700, 500, 100, 300, 200),\n",
       " (700, 500, 200, 100, 300),\n",
       " (700, 500, 200, 300, 100),\n",
       " (700, 500, 300, 100, 200),\n",
       " (700, 500, 300, 200, 100)]"
      ]
     },
     "execution_count": 34,
     "metadata": {},
     "output_type": "execute_result"
    }
   ],
   "source": [
    "import itertools\n",
    "\n",
    "a = [100, 200, 300, 500, 700]\n",
    "permutations = list(itertools.permutations(a))\n",
    "permutations"
   ]
  },
  {
   "cell_type": "code",
   "execution_count": 35,
   "metadata": {
    "collapsed": false
   },
   "outputs": [
    {
     "data": {
      "text/plain": [
       "[[0, 100, 200, 300, 500, 700],\n",
       " [0, 100, 200, 300, 700],\n",
       " [0, 100, 200, 500, 700],\n",
       " [0, 100, 200, 700],\n",
       " [0, 100, 300, 500, 700],\n",
       " [0, 100, 300, 700],\n",
       " [0, 100, 300, 500, 700],\n",
       " [0, 100, 300, 700],\n",
       " [0, 100, 500, 700],\n",
       " [0, 100, 700],\n",
       " [0, 200, 300, 500, 700],\n",
       " [0, 200, 300, 700],\n",
       " [0, 200, 500, 700],\n",
       " [0, 200, 700],\n",
       " [0, 200, 300, 500, 700],\n",
       " [0, 200, 300, 700],\n",
       " [0, 200, 300, 500, 700],\n",
       " [0, 200, 300, 700],\n",
       " [0, 200, 500, 700],\n",
       " [0, 200, 700],\n",
       " [0, 300, 500, 700],\n",
       " [0, 300, 700],\n",
       " [0, 300, 500, 700],\n",
       " [0, 300, 700],\n",
       " [0, 300, 500, 700],\n",
       " [0, 300, 700],\n",
       " [0, 300, 500, 700],\n",
       " [0, 300, 700],\n",
       " [0, 300, 500, 700],\n",
       " [0, 300, 700],\n",
       " [0, 500, 700],\n",
       " [0, 700]]"
      ]
     },
     "execution_count": 35,
     "metadata": {},
     "output_type": "execute_result"
    }
   ],
   "source": [
    "path_permuations = []\n",
    "for path in permutations:\n",
    "    strictly_increasing = [0, path[0]]\n",
    "    for i in range(1, len(path)):\n",
    "        if path[i] > strictly_increasing[-1]:\n",
    "            strictly_increasing.append(path[i])\n",
    "    if len(path_permuations) == 0:\n",
    "        path_permuations.append(strictly_increasing)\n",
    "    elif path_permuations[-1] != strictly_increasing:\n",
    "        path_permuations.append(strictly_increasing)\n",
    "\n",
    "path_permuations"
   ]
  },
  {
   "cell_type": "code",
   "execution_count": 36,
   "metadata": {
    "collapsed": false
   },
   "outputs": [
    {
     "data": {
      "text/plain": [
       "[30000,\n",
       " 70000,\n",
       " 30000,\n",
       " 110000,\n",
       " 10000,\n",
       " 50000,\n",
       " 10000,\n",
       " 50000,\n",
       " 50000,\n",
       " 170000,\n",
       " 10000,\n",
       " 50000,\n",
       " 10000,\n",
       " 90000,\n",
       " 10000,\n",
       " 50000,\n",
       " 10000,\n",
       " 50000,\n",
       " 10000,\n",
       " 90000,\n",
       " 10000,\n",
       " 50000,\n",
       " 10000,\n",
       " 50000,\n",
       " 10000,\n",
       " 50000,\n",
       " 10000,\n",
       " 50000,\n",
       " 10000,\n",
       " 50000,\n",
       " 90000,\n",
       " 250000]"
      ]
     },
     "execution_count": 36,
     "metadata": {},
     "output_type": "execute_result"
    }
   ],
   "source": [
    "penalty = []\n",
    "for path in path_permuations:\n",
    "    running_penalty = 0\n",
    "    for i in range(1, len(path)):\n",
    "        running_penalty += (200 - (path[i] - path[i-1])) ** 2\n",
    "    penalty.append(running_penalty)\n",
    "penalty"
   ]
  },
  {
   "cell_type": "code",
   "execution_count": 57,
   "metadata": {
    "collapsed": true
   },
   "outputs": [],
   "source": [
    "def minimum_penalty(a):\n",
    "    \"\"\"\n",
    "    returns the minimal penalty of array a.\n",
    "    \"\"\"\n",
    "    \n",
    "    a = [0] + a\n",
    "    p = [0 for _ in range(len(a))]\n",
    "   \n",
    "    for i in range(1, len(a)):\n",
    "        min_j = i-1\n",
    "        for j in range(0, i-2):\n",
    "            if p[j] + (200 - (a[i] - a[j])) ** 2 < p[min_j] + (200 - (a[i] - a[min_j])) ** 2:\n",
    "                min_j = j\n",
    "        p[i] = p[min_j] + (200 - (a[i] - a[min_j])) ** 2\n",
    "    \n",
    "    return p[-1]"
   ]
  },
  {
   "cell_type": "code",
   "execution_count": 58,
   "metadata": {
    "collapsed": false
   },
   "outputs": [
    {
     "data": {
      "text/plain": [
       "10000"
      ]
     },
     "execution_count": 58,
     "metadata": {},
     "output_type": "execute_result"
    }
   ],
   "source": [
    "minimum_penalty(a)"
   ]
  },
  {
   "cell_type": "code",
   "execution_count": 59,
   "metadata": {
    "collapsed": true
   },
   "outputs": [],
   "source": [
    "m = [1, 2, 5]\n",
    "p = [1, 10, 3]\n",
    "k = 3"
   ]
  },
  {
   "cell_type": "code",
   "execution_count": 64,
   "metadata": {
    "collapsed": true
   },
   "outputs": [],
   "source": [
    "def maximum_profit(m, p, k):\n",
    "    \"\"\"\n",
    "    returns the max profit\n",
    "    \"\"\"\n",
    "    z = [0 for _ in range(len(m))]\n",
    "    z[0] = p[0]\n",
    "    \n",
    "    for i in range(1, len(m)):\n",
    "        max_j = 0\n",
    "        for j in range(0, i-1):\n",
    "            if p[j] > p[max_j] and (m[i] - m[j]) >= k:\n",
    "                max_j = j\n",
    "        if max_j != None:\n",
    "            z[i] = p[i] + p[max_j]\n",
    "        else:\n",
    "            z[i] = p[i]\n",
    "    \n",
    "    print(z)\n",
    "    return z[-1]"
   ]
  },
  {
   "cell_type": "code",
   "execution_count": 65,
   "metadata": {
    "collapsed": false
   },
   "outputs": [
    {
     "ename": "TypeError",
     "evalue": "list indices must be integers or slices, not NoneType",
     "output_type": "error",
     "traceback": [
      "\u001b[0;31m---------------------------------------------------------------------------\u001b[0m",
      "\u001b[0;31mTypeError\u001b[0m                                 Traceback (most recent call last)",
      "\u001b[0;32m<ipython-input-65-5e120b338de7>\u001b[0m in \u001b[0;36m<module>\u001b[0;34m()\u001b[0m\n\u001b[0;32m----> 1\u001b[0;31m \u001b[0mmaximum_profit\u001b[0m\u001b[0;34m(\u001b[0m\u001b[0mm\u001b[0m\u001b[0;34m,\u001b[0m \u001b[0mp\u001b[0m\u001b[0;34m,\u001b[0m \u001b[0mk\u001b[0m\u001b[0;34m)\u001b[0m\u001b[0;34m\u001b[0m\u001b[0m\n\u001b[0m",
      "\u001b[0;32m<ipython-input-64-9f6a7bbd274f>\u001b[0m in \u001b[0;36mmaximum_profit\u001b[0;34m(m, p, k)\u001b[0m\n\u001b[1;32m      9\u001b[0m         \u001b[0mmax_j\u001b[0m \u001b[0;34m=\u001b[0m \u001b[0;32mNone\u001b[0m\u001b[0;34m\u001b[0m\u001b[0m\n\u001b[1;32m     10\u001b[0m         \u001b[0;32mfor\u001b[0m \u001b[0mj\u001b[0m \u001b[0;32min\u001b[0m \u001b[0mrange\u001b[0m\u001b[0;34m(\u001b[0m\u001b[0;36m0\u001b[0m\u001b[0;34m,\u001b[0m \u001b[0mi\u001b[0m\u001b[0;34m-\u001b[0m\u001b[0;36m1\u001b[0m\u001b[0;34m)\u001b[0m\u001b[0;34m:\u001b[0m\u001b[0;34m\u001b[0m\u001b[0m\n\u001b[0;32m---> 11\u001b[0;31m             \u001b[0;32mif\u001b[0m \u001b[0mp\u001b[0m\u001b[0;34m[\u001b[0m\u001b[0mj\u001b[0m\u001b[0;34m]\u001b[0m \u001b[0;34m>\u001b[0m \u001b[0mp\u001b[0m\u001b[0;34m[\u001b[0m\u001b[0mmax_j\u001b[0m\u001b[0;34m]\u001b[0m \u001b[0;32mand\u001b[0m \u001b[0;34m(\u001b[0m\u001b[0mm\u001b[0m\u001b[0;34m[\u001b[0m\u001b[0mi\u001b[0m\u001b[0;34m]\u001b[0m \u001b[0;34m-\u001b[0m \u001b[0mm\u001b[0m\u001b[0;34m[\u001b[0m\u001b[0mj\u001b[0m\u001b[0;34m]\u001b[0m\u001b[0;34m)\u001b[0m \u001b[0;34m>=\u001b[0m \u001b[0mk\u001b[0m\u001b[0;34m:\u001b[0m\u001b[0;34m\u001b[0m\u001b[0m\n\u001b[0m\u001b[1;32m     12\u001b[0m                 \u001b[0mmax_j\u001b[0m \u001b[0;34m=\u001b[0m \u001b[0mj\u001b[0m\u001b[0;34m\u001b[0m\u001b[0m\n\u001b[1;32m     13\u001b[0m         \u001b[0;32mif\u001b[0m \u001b[0mmax_j\u001b[0m \u001b[0;34m!=\u001b[0m \u001b[0;32mNone\u001b[0m\u001b[0;34m:\u001b[0m\u001b[0;34m\u001b[0m\u001b[0m\n",
      "\u001b[0;31mTypeError\u001b[0m: list indices must be integers or slices, not NoneType"
     ]
    }
   ],
   "source": [
    "maximum_profit(m, p, k)"
   ]
  }
 ],
 "metadata": {
  "kernelspec": {
   "display_name": "Python 3",
   "language": "python",
   "name": "python3"
  },
  "language_info": {
   "codemirror_mode": {
    "name": "ipython",
    "version": 3
   },
   "file_extension": ".py",
   "mimetype": "text/x-python",
   "name": "python",
   "nbconvert_exporter": "python",
   "pygments_lexer": "ipython3",
   "version": "3.6.0"
  }
 },
 "nbformat": 4,
 "nbformat_minor": 2
}
