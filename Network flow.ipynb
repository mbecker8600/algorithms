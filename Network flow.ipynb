{
 "cells": [
  {
   "cell_type": "code",
   "execution_count": 1,
   "metadata": {
    "collapsed": true
   },
   "outputs": [],
   "source": [
    "import networkx as nx\n",
    "import pandas as pd\n",
    "import matplotlib.pyplot as plt"
   ]
  },
  {
   "cell_type": "code",
   "execution_count": 2,
   "metadata": {
    "collapsed": true
   },
   "outputs": [],
   "source": [
    "def max_flow(G):\n",
    "    \"\"\"\n",
    "    Implementation of the Ford-Fulkerson algorithm to determine the max flow of a graph. \n",
    "    \n",
    "    Input:\n",
    "    G -- input graph\n",
    "    \n",
    "    Output:\n",
    "    max_flow -- the maximum flow obtainable from graph G. \n",
    "    \"\"\"\n",
    "    \n",
    "    pass\n",
    "\n",
    "def augment(f, P):\n",
    "    \"\"\"\n",
    "    Augment the flow network in the residual graph.\n",
    "    \n",
    "    Input:\n",
    "    f -- flow network from the residual graph\n",
    "    P -- the s-t path \n",
    "    \n",
    "    Output:\n",
    "    f_prime -- the augmented flow network\n",
    "    \"\"\"\n",
    "\n",
    "    pass\n",
    "\n",
    "def bottleneck(P):\n",
    "    \"\"\"\n",
    "    Gives the minimum residual capacity of any edge in P.\n",
    "    \n",
    "    Input:\n",
    "    P -- the s-t path in the residual network\n",
    "    \n",
    "    Output:\n",
    "    bottleneck -- the integer value of the minimum residual capacity in path P\n",
    "    \"\"\"\n",
    "    \n",
    "    pass"
   ]
  },
  {
   "cell_type": "code",
   "execution_count": null,
   "metadata": {
    "collapsed": true
   },
   "outputs": [],
   "source": []
  }
 ],
 "metadata": {
  "kernelspec": {
   "display_name": "Python 3",
   "language": "python",
   "name": "python3"
  },
  "language_info": {
   "codemirror_mode": {
    "name": "ipython",
    "version": 3
   },
   "file_extension": ".py",
   "mimetype": "text/x-python",
   "name": "python",
   "nbconvert_exporter": "python",
   "pygments_lexer": "ipython3",
   "version": "3.6.0"
  }
 },
 "nbformat": 4,
 "nbformat_minor": 2
}
