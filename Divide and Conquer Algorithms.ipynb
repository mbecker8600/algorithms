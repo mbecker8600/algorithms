{
 "cells": [
  {
   "cell_type": "code",
   "execution_count": 45,
   "metadata": {
    "collapsed": false
   },
   "outputs": [],
   "source": [
    "import numpy as np\n",
    "import pandas as pd\n",
    "from math import ceil"
   ]
  },
  {
   "cell_type": "markdown",
   "metadata": {},
   "source": [
    "# Divide and Conquer algorithms"
   ]
  },
  {
   "cell_type": "markdown",
   "metadata": {},
   "source": [
    "## Algorithm Design Texbook"
   ]
  },
  {
   "cell_type": "markdown",
   "metadata": {},
   "source": [
    "### Algorithm Design solved exercise 1"
   ]
  },
  {
   "cell_type": "code",
   "execution_count": 23,
   "metadata": {
    "collapsed": true
   },
   "outputs": [],
   "source": [
    "def find_peak(a):\n",
    "    n = len(a)\n",
    "    mid = floor(n/2)\n",
    "    \n",
    "    if n == 1: \n",
    "        return a[0]\n",
    "    if n == 2:\n",
    "        return max(a)\n",
    "    \n",
    "    if a[mid-1] < a[mid] and a[mid] > a[mid+1]:\n",
    "        return a[mid]\n",
    "    if a[mid-1] < a[mid] and a[mid] < a[mid+1]:    \n",
    "        return find_peak(a[mid+1:])\n",
    "    if a[mid-1] > a[mid] and a[mid] > a[mid+1]:\n",
    "        return find_peak(a[:mid])"
   ]
  },
  {
   "cell_type": "code",
   "execution_count": 22,
   "metadata": {
    "collapsed": false
   },
   "outputs": [
    {
     "name": "stdout",
     "output_type": "stream",
     "text": [
      "[1, 3, 4, 7, 9, 8, 6, 4]\n",
      "9\n"
     ]
    }
   ],
   "source": [
    "a = [1, 3, 4, 7, 9, 8, 6, 4]\n",
    "print(find_peak(a))"
   ]
  },
  {
   "cell_type": "markdown",
   "metadata": {},
   "source": [
    "### Algorithm Design solved exercise 2"
   ]
  },
  {
   "cell_type": "code",
   "execution_count": 2,
   "metadata": {
    "collapsed": true
   },
   "outputs": [],
   "source": [
    "from math import floor\n",
    "\n",
    "def profit(a):\n",
    "    n = len(a)\n",
    "    if n == 2:\n",
    "        return a[1] - a[0]\n",
    "    \n",
    "    a_l = a[0:floor(n/2)]\n",
    "    a_r = a[floor(n/2):n]\n",
    "    \n",
    "    return max(max(a_r) - min(a_l), profit(a_l), profit(a_r))"
   ]
  },
  {
   "cell_type": "code",
   "execution_count": 3,
   "metadata": {
    "collapsed": false
   },
   "outputs": [
    {
     "name": "stdout",
     "output_type": "stream",
     "text": [
      "9\n"
     ]
    }
   ],
   "source": [
    "a = [10, 15, 6, 3, 7, 12, 2, 9]\n",
    "print(profit(a))"
   ]
  },
  {
   "cell_type": "markdown",
   "metadata": {},
   "source": [
    "### Algorithm Design 5.1"
   ]
  },
  {
   "cell_type": "code",
   "execution_count": 56,
   "metadata": {
    "collapsed": false
   },
   "outputs": [
    {
     "name": "stdout",
     "output_type": "stream",
     "text": [
      "8.0\n",
      "7.0\n",
      "7.5\n"
     ]
    }
   ],
   "source": [
    "a = [1, 5, 8, 3, 9, 30, 50]\n",
    "b = [2, 15, 20, 4, 6, 7, 10]\n",
    "\n",
    "print(np.median(a))\n",
    "print(np.median(b))\n",
    "print(np.median(a+b))"
   ]
  },
  {
   "cell_type": "code",
   "execution_count": 71,
   "metadata": {
    "collapsed": false
   },
   "outputs": [],
   "source": [
    "def median(a, b):\n",
    "    n = len(a)\n",
    "    m = len(b)\n",
    "    \n",
    "    if n == 1 or m == 1:\n",
    "        return min(a[0], b[0])\n",
    "    \n",
    "    k = np.median(a)\n",
    "    l = np.median(b)\n",
    "    \n",
    "    if k < l:\n",
    "        return median(a[a >= k], b[b <= l])\n",
    "    if k > l:\n",
    "        return median(a[a <= k], b[b >= l])"
   ]
  },
  {
   "cell_type": "code",
   "execution_count": 72,
   "metadata": {
    "collapsed": false
   },
   "outputs": [
    {
     "name": "stdout",
     "output_type": "stream",
     "text": [
      "7\n"
     ]
    }
   ],
   "source": [
    "print(median(np.array(a), np.array(b)))"
   ]
  }
 ],
 "metadata": {
  "kernelspec": {
   "display_name": "Python 3",
   "language": "python",
   "name": "python3"
  },
  "language_info": {
   "codemirror_mode": {
    "name": "ipython",
    "version": 3
   },
   "file_extension": ".py",
   "mimetype": "text/x-python",
   "name": "python",
   "nbconvert_exporter": "python",
   "pygments_lexer": "ipython3",
   "version": "3.6.0"
  },
  "toc": {
   "nav_menu": {},
   "number_sections": true,
   "sideBar": true,
   "skip_h1_title": false,
   "toc_cell": false,
   "toc_position": {},
   "toc_section_display": "block",
   "toc_window_display": true
  }
 },
 "nbformat": 4,
 "nbformat_minor": 2
}
