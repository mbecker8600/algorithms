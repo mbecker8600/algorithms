{
 "cells": [
  {
   "cell_type": "code",
   "execution_count": 1,
   "metadata": {
    "collapsed": true
   },
   "outputs": [],
   "source": [
    "import pandas as pd\n",
    "import numpy as np"
   ]
  },
  {
   "cell_type": "code",
   "execution_count": 3,
   "metadata": {
    "collapsed": false
   },
   "outputs": [],
   "source": [
    "x = ['a', 'b', 'd', 'b', 'a', 'b', 'f', 'g', 'd']\n",
    "y = ['b', 'e', 't', 'f', 'd', 'b', 'f', 'a', 'f', 'r']"
   ]
  },
  {
   "cell_type": "code",
   "execution_count": 12,
   "metadata": {
    "collapsed": true
   },
   "outputs": [],
   "source": [
    "def LCS_variant(x, y):\n",
    "    n = len(x) + 1\n",
    "    m = len(y) + 1\n",
    "    \n",
    "    L = np.zeros((n, m))\n",
    "    \n",
    "    for i in range(1, n):\n",
    "        for j in range(1, m):\n",
    "            if x[i-1] == y[j-1]:\n",
    "                L[i, j] = 1 + L[i-1, j-1]\n",
    "            else:\n",
    "                L[i, j] = L[i, j-1]\n",
    "    \n",
    "    max_i = 0\n",
    "    for i in range(1,n):\n",
    "        if L[i, -1] > L[max_i, -1]:\n",
    "            max_i = i\n",
    "    \n",
    "    return L[max_i, -1]"
   ]
  },
  {
   "cell_type": "code",
   "execution_count": 13,
   "metadata": {
    "collapsed": false
   },
   "outputs": [
    {
     "name": "stdout",
     "output_type": "stream",
     "text": [
      "4.0\n"
     ]
    }
   ],
   "source": [
    "print(LCS_variant(x, y))"
   ]
  },
  {
   "cell_type": "code",
   "execution_count": 22,
   "metadata": {
    "collapsed": true
   },
   "outputs": [],
   "source": [
    "z = str(84738)\n",
    "k = 3"
   ]
  },
  {
   "cell_type": "code",
   "execution_count": 77,
   "metadata": {
    "collapsed": false
   },
   "outputs": [
    {
     "data": {
      "text/plain": [
       "'47'"
      ]
     },
     "execution_count": 77,
     "metadata": {},
     "output_type": "execute_result"
    }
   ],
   "source": [
    "z[1:3]"
   ]
  },
  {
   "cell_type": "code",
   "execution_count": 80,
   "metadata": {
    "collapsed": true
   },
   "outputs": [],
   "source": [
    "def maximum_product(z, k):\n",
    "    n = len(z) + 1\n",
    "    m = k+1\n",
    "    \n",
    "    P = np.zeros((n, m))\n",
    "    P[1:, 0] = [int(z[:i+1]) for i in range(len(z))]\n",
    "    \n",
    "    for i in range(1, n):\n",
    "        for j in range(1, m):\n",
    "            if i > j:\n",
    "                max_l = j\n",
    "                for l in range(j, i):\n",
    "                    if int(z[l:i]) * P[l, j-1] > int(z[max_l:i]) * P[max_l, j-1]:\n",
    "                         max_l = l\n",
    "                P[i, j] = int(z[max_l:i]) * P[max_l, j-1]\n",
    "    \n",
    "    return P[-1, -1]"
   ]
  },
  {
   "cell_type": "code",
   "execution_count": 81,
   "metadata": {
    "collapsed": false
   },
   "outputs": [
    {
     "name": "stdout",
     "output_type": "stream",
     "text": [
      "18688.0\n"
     ]
    }
   ],
   "source": [
    "print(maximum_product(z, k))"
   ]
  },
  {
   "cell_type": "code",
   "execution_count": 112,
   "metadata": {
    "collapsed": true
   },
   "outputs": [],
   "source": [
    "x = [10, 10, 20, 20, 5, 50]\n",
    "k = 2\n",
    "B = 55"
   ]
  },
  {
   "cell_type": "code",
   "execution_count": 114,
   "metadata": {
    "collapsed": true
   },
   "outputs": [],
   "source": [
    "def change_coins(x, k, B):\n",
    "    n = len(x) + 1\n",
    "    m = k + 1\n",
    "    \n",
    "    D = np.zeros((n, m))\n",
    "    D[: , 0] = B  # base case\n",
    "    D[0, :] = B  # base case\n",
    "    \n",
    "    for i in range(1, n):\n",
    "        for j in range(1, m):\n",
    "            minimum = abs((D[i-1, j-1] - x[i-1]))\n",
    "            if D[i-1, j] < minimum:\n",
    "                minimum = D[i-1, j]\n",
    "            D[i, j] = minimum\n",
    "    \n",
    "    print(D.T)"
   ]
  },
  {
   "cell_type": "code",
   "execution_count": 115,
   "metadata": {
    "collapsed": false
   },
   "outputs": [
    {
     "name": "stdout",
     "output_type": "stream",
     "text": [
      "[[ 55.  55.  55.  55.  55.  55.  55.]\n",
      " [ 55.  45.  45.  35.  35.  35.   5.]\n",
      " [ 55.  45.  35.  25.  15.  15.  15.]]\n",
      "None\n"
     ]
    }
   ],
   "source": [
    "print(change_coins(x, k, B))"
   ]
  }
 ],
 "metadata": {
  "kernelspec": {
   "display_name": "Python 3",
   "language": "python",
   "name": "python3"
  },
  "language_info": {
   "codemirror_mode": {
    "name": "ipython",
    "version": 3
   },
   "file_extension": ".py",
   "mimetype": "text/x-python",
   "name": "python",
   "nbconvert_exporter": "python",
   "pygments_lexer": "ipython3",
   "version": "3.6.0"
  }
 },
 "nbformat": 4,
 "nbformat_minor": 2
}
